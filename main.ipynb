{
 "cells": [
  {
   "cell_type": "code",
   "execution_count": 3,
   "id": "fcda8c1f",
   "metadata": {},
   "outputs": [],
   "source": [
    "import numpy as np\n",
    "import random\n",
    "import pandas as pd"
   ]
  },
  {
   "cell_type": "code",
   "execution_count": null,
   "id": "f173d6a8",
   "metadata": {},
   "outputs": [
    {
     "name": "stdout",
     "output_type": "stream",
     "text": [
      "M2:  ['YENIKAPI', 'VEZNECILER', 'HALIC', 'SISHANE', 'TAKSIM', 'OSMANBEY', 'SISLI', 'GAYRETTEPE', 'LEVENT', '4. LEVENT', 'SANAYI MAHALLESI', 'SEYRANTEPE', 'İTÜ - AYAZAĞA', 'ATATÜRK OTO SANAYI', 'DARÜŞŞAFAKA', 'HACIOSMAN']\n"
     ]
    },
    {
     "ename": "NameError",
     "evalue": "name 'array' is not defined",
     "output_type": "error",
     "traceback": [
      "\u001b[1;31m---------------------------------------------------------------------------\u001b[0m",
      "\u001b[1;31mNameError\u001b[0m                                 Traceback (most recent call last)",
      "Cell \u001b[1;32mIn[4], line 8\u001b[0m\n\u001b[0;32m      6\u001b[0m M2 \u001b[38;5;241m=\u001b[39m \u001b[38;5;28mlist\u001b[39m(M2)\n\u001b[0;32m      7\u001b[0m \u001b[38;5;28mprint\u001b[39m(\u001b[38;5;124m\"\u001b[39m\u001b[38;5;124mM2: \u001b[39m\u001b[38;5;124m\"\u001b[39m, M2)\n\u001b[1;32m----> 8\u001b[0m \u001b[43marray\u001b[49m([\u001b[38;5;124m'\u001b[39m\u001b[38;5;124mATATURK OTO SANAYI\u001b[39m\u001b[38;5;124m'\u001b[39m, \u001b[38;5;124m'\u001b[39m\u001b[38;5;124mDARUSSAFAKA\u001b[39m\u001b[38;5;124m'\u001b[39m, \u001b[38;5;124m'\u001b[39m\u001b[38;5;124mGAYRETTEPE\u001b[39m\u001b[38;5;124m'\u001b[39m, \u001b[38;5;124m'\u001b[39m\u001b[38;5;124mHACIOSMAN\u001b[39m\u001b[38;5;124m'\u001b[39m,\n\u001b[0;32m      9\u001b[0m        \u001b[38;5;124m'\u001b[39m\u001b[38;5;124mHALIC\u001b[39m\u001b[38;5;124m'\u001b[39m, \u001b[38;5;124m'\u001b[39m\u001b[38;5;124mITU\u001b[39m\u001b[38;5;124m'\u001b[39m, \u001b[38;5;124m'\u001b[39m\u001b[38;5;124mLEVENT\u001b[39m\u001b[38;5;124m'\u001b[39m, \u001b[38;5;124m'\u001b[39m\u001b[38;5;124mOSMANBEY\u001b[39m\u001b[38;5;124m'\u001b[39m, \u001b[38;5;124m'\u001b[39m\u001b[38;5;124mSANAYI MAH.\u001b[39m\u001b[38;5;124m'\u001b[39m, \u001b[38;5;124m'\u001b[39m\u001b[38;5;124mSEYRANTEPE\u001b[39m\u001b[38;5;124m'\u001b[39m,\n\u001b[0;32m     10\u001b[0m        \u001b[38;5;124m'\u001b[39m\u001b[38;5;124mSEYRANTEPE  STAD GIRISI\u001b[39m\u001b[38;5;124m'\u001b[39m, \u001b[38;5;124m'\u001b[39m\u001b[38;5;124mSISHANE\u001b[39m\u001b[38;5;124m'\u001b[39m, \u001b[38;5;124m'\u001b[39m\u001b[38;5;124mSISLI\u001b[39m\u001b[38;5;124m'\u001b[39m, \u001b[38;5;124m'\u001b[39m\u001b[38;5;124mTAKSIM\u001b[39m\u001b[38;5;124m'\u001b[39m,\n\u001b[0;32m     11\u001b[0m        \u001b[38;5;124m'\u001b[39m\u001b[38;5;124mVEZNECILER\u001b[39m\u001b[38;5;124m'\u001b[39m, \u001b[38;5;124m'\u001b[39m\u001b[38;5;124mYENIKAPI\u001b[39m\u001b[38;5;124m'\u001b[39m], dtype\u001b[38;5;241m=\u001b[39m\u001b[38;5;28mobject\u001b[39m)\n",
      "\u001b[1;31mNameError\u001b[0m: name 'array' is not defined"
     ]
    }
   ],
   "source": [
    "istanbul_metro = {\n",
    "    \"M2\": [\n",
    "        \"YENIKAPI\", \"VEZNECILER\", \"HALIC\", \"SISHANE\", \"TAKSIM\",\n",
    "        \"OSMANBEY\", \"SISLI\", \"GAYRETTEPE\", \"LEVENT\", \"4. LEVENT\",\n",
    "        \"SANAYI MAH.\", \"SEYRANTEPE\", \"ITU - AYAZAGA\", \"ATATURK OTO SANAYI\", \"DARUSSAFAKA\",\n",
    "        \"HACIOSMAN\"\n",
    "    ],\n",
    "    \"M3\": [\n",
    "        \"BAKIRKOY IDO\", \"OZGURLUK MEYDANI\", \"INCIRLI\", \"HAZNEDAR\", \"ILKYUVA\",\n",
    "        \"MOLLA GURANI\", \"KIRAZLI\", \"YENIMAHALLE\", \"MAHMUTBEY\", \"ISTOC\",\n",
    "        \"IKITELLI SANAYI\", \"TURGUT OZAL\", \"SITELER\", \"BASAK KONUTLARI\", \"METROKENT\",\n",
    "        \"ONURKENT\", \"SEHIR HASTANESI\", \"TOPLU KONUTLAR\", \"KAYASEHIR MERKEZ\"\n",
    "],\n",
    "    \"M4\": [\n",
    "        \"KADIKOY\", \"AYRILIKCESME\", \"ACIBADEM\", \"UNALAN\", \"GOZTEPE\",\n",
    "        \"YENISAHRA\", \"KOZYATAGI\", \"BOSTANCI\", \"KUCUKYALI\", \"MALTEPE\",\n",
    "        \"HUZUREVI\", \"GULSUYU\", \"ESENKENT CEVIZLI\", \"HASTANE ADLIYE\", \"SOGANLIK\",\n",
    "        \"KARTAL\", \"YAKACIK\", \"PENDIK\", \"TAVSANTEPE\", \"HASTANE\",\n",
    "        \"YAYALAR\", \"KURTKOY\", \"SABIHA GOKCEN HAVALIMANI\",\n",
    "    ],\n",
    "    \"M5\": [\n",
    "        \"USKUDAR\", \"FISTIKAGACI\", \"BAGLARBASI\", \"ALTUNIZADE\", \"KISIKLI\",\n",
    "        \"BULGURLU\", \"UMRANIYE\", \"CARSI\", \"YAMANEVLER\", \"CAKMAK\",\n",
    "        \"IHLAMURKUYU\", \"ALTINSEHIR\", \"IMAM HATIP LISESI\", \"DUDULLU\", \"NECIP FAZIL\",\n",
    "        \"CEKMEKOY\", \"MECLIS\", \"SARIGAZI\", \"SANCAKTEPE\", \"SAMANDIRA MERKEZ\"\n",
    "    ],\n",
    "    \"M6\": [\n",
    "        \"LEVENT  KONKORS\", \"NISPETIYE\", \"ETILER\", \"BOGAZICI\"\n",
    "    ],\n",
    "    \"M7\": [\n",
    "        \"M YILDIZ\", \"M FULYA\", \"MECIDIYEKOY\", \"CAGLAYAN\", \"KAGITHANE\",\n",
    "        \"NURTEPE\", \"ALIBEYKOY\", \"CIRCIR\", \"VEYSELKARANI\", \"YESILPINAR\",\n",
    "        \"KAZIMKARABEKIR\", \"YENIMAHALLE\", \"KARADENIZ MAH.\", \"TEKSTILKENT\", \"ORUCREIS\",\n",
    "        \"GOZTEPE\", \"MAHMUTBEY M HOL\"\n",
    "    ],\n",
    "    \"M8\": [\n",
    "        \"BOSTANCI\", \"EMIN ALI PASA\", \"AYSE KADIN\", \"ICERENKOY\", \"KUCUKBAKKALKOY\", \"KAYISDAGI\",\n",
    "        \"MEVLANA\", \"IMES\", \"MODOKO - KEYAP\", \"DUDULLU\", \"HUZUR\", \"PARSELLER\"\n",
    "    ],\n",
    "    \"M9\": [\n",
    "        \"ATAKOY\", \"YENIBOSNA\", \"COBANCESME\", \"29 EKIM CUMHURIYET\", \"DOGU SANAYI\", \"MIMAR SINAN\",\n",
    "        \"15 TEMMUZ\", \"HALKALI CADDESI\", \"ATATURK MAHALLESI\", \"BAHARIYE\", \"MASKO\", \n",
    "        \"IKITELLI SANAYI\", \"ZIYA GOKALP MAH.\", \"OLIMPIYAT\"\n",
    "    ],\n",
    "    \"M11\": [\n",
    "        \"GAYRETTEPE\", \"KAGITHANE\", \"HASDAL\", \"KEMERBURGAZ\", \"GOKTURK\", \"IHSANIYE\",\n",
    "        \"ISTANBUL HAVALIMANI\", \"KARGO TERMINALI\", \"TASOLUK\", \"ARNAVUTKOY HASTANE\"\n",
    "    ],\n",
    "\n",
    "    \"T5\": [\n",
    "        \"EMINONU\", \"KUCUKPAZAR\", \"CIBALI\", \"FENER\", \"BALAT\",\n",
    "        \"AYVANSARAY\", \"FESHANE\", \"EYUP TELEFERIK\", \"EYUP DEVLET HASTANESI\", \"SILAHTARAGA\",\n",
    "        \"UNIVERSITE\", \"ALIBEYKOY\", \"ALIBEYKOY METRO\", \"CEP OTOGAR\"],\n",
    "\n",
    "    \"T4\": [\n",
    "        \"TOPKAPI\", \"FETIHKAPI\", \"VATAN\", \"EDIRNEKAPI\", \"SEHITLIK\",\n",
    "        \"DEMIRKAPI\", \"TOPCULAR\", \"RAMI\", \"BEREC\", \"SAGMALCILAR\",\n",
    "        \"CUKURCESME\", \"ALI FUAT BASGIL\", \"TASKOPRU\", \"KARADENIZ MAHALLESI\", \"T4 KIPTAS VENEZIA\",\n",
    "        \"CUMHURIYET\", \"BASTABYA\", \"HACI SUKRU\", \"YENIMAHALLE\", \"SULTANCIFTLIGI\",\n",
    "        \"CEBECI\", \"MESCIDI SELAM\"],\n",
    "\n",
    "    \"T1\": [ \n",
    "        \"KABATAS\", \"FINDIKLI\", \"TOPHANE\", \"KARAKOY\", \"EMINONU\",\n",
    "        \"SIRKECI\", \"GULHANE\", \"SULTANAHMET\", \"CEMBERLITAS\", \"BEYAZIT\",\n",
    "        \"LALELI\", \"AKSARAY\", \"YUSUFPASA\", \"HASEKI\", \"FINDIKZADE\",\n",
    "        \"CAPA\", \"PAZARTEKKE\", \"TOPKAPI\", \"ATATURK OGRENCI YURDU\", \"MERKEZEFENDI\",\n",
    "        \"AKSEMSETTIN\", \"MITHATPASA\", \"ZEYTINBURNU\", \"MEHMETAKIF\", \"...\",\n",
    "        \"GUNGOREN\", \"AKINCILAR\", \"SOGANLI\", \"...\", \"GUNESTEPE\",\n",
    "        \"BAGCILAR\"]\n",
    "}\n"
   ]
  },
  {
   "cell_type": "code",
   "execution_count": null,
   "id": "b5cbd938",
   "metadata": {},
   "outputs": [
    {
     "data": {
      "text/plain": [
       "array(['ATATURK OTO SANAYI', 'DARUSSAFAKA', 'GAYRETTEPE', 'HACIOSMAN',\n",
       "       'HALIC', 'ITU', 'LEVENT', 'OSMANBEY', 'SANAYI MAH.', 'SEYRANTEPE',\n",
       "       'SEYRANTEPE  STAD GIRISI', 'SISHANE', 'SISLI', 'TAKSIM',\n",
       "       'VEZNECILER', 'YENIKAPI'], dtype=object)"
      ]
     },
     "execution_count": 7,
     "metadata": {},
     "output_type": "execute_result"
    }
   ],
   "source": [
    "data = pd.read_csv(r'data/hourly_transportation_202410.csv')\n",
    "data = data[data[\"transport_type_id\"] == 2]\n",
    "data = data[[\"transition_date\", \"transition_hour\", \"line_name\", \"number_of_passage\", \"station_poi_desc_cd\"]]\n",
    "data = data.rename(columns={\"transition_date\": \"date\", \"transition_hour\": \"hour\", \"line_name\": \"line\", \"number_of_passage\": \"passenger_count\", \"station_poi_desc_cd\": \"station\"})\n",
    "data = data[data[\"hour\"] >= 6]\n",
    "\n",
    "# Remove unwanted words (KUZEY, GUNEY, DOGU, BATI) and numbers from the 'station' column\n",
    "data['station'] = data['station'].str.replace(r'\\b(KUZEY|GUNEY|DOGU|BATI)\\b', '', regex=True)\n",
    "# Remove all digits and numbers\n",
    "data['station'] = data['station'].str.replace(r'\\d+', '', regex=True)\n",
    "data['station'] = data['station'].str.replace(r'[()\\-/]', '', regex=True)  # Remove symbols: (), -, /\n",
    "data['station'] = data['station'].str.strip()\n",
    "data[\"station\"] = data[\"station\"].astype(str)\n",
    "\n",
    "data = data.groupby(['date', 'hour', 'line', 'station'], as_index=False)['passenger_count'].sum()\n",
    "\n",
    "\n",
    "\n"
   ]
  },
  {
   "cell_type": "code",
   "execution_count": 13,
   "id": "c7cc89a8",
   "metadata": {},
   "outputs": [
    {
     "data": {
      "text/plain": [
       "array(['ALIBEYKOY', 'CAGLAYAN', 'CIRCIR', 'GOZTEPE', 'KAGITHANE',\n",
       "       'KARADENIZ MAH.', 'KAZIMKARABEKIR', 'M FULYA', 'M YILDIZ',\n",
       "       'MAHMUTBEY M HOL', 'MECIDIYEKOY', 'NURTEPE', 'ORUCREIS',\n",
       "       'TEKSTILKENT', 'VEYSELKARANI', 'YENIMAHALLE', 'YESILPINAR'],\n",
       "      dtype=object)"
      ]
     },
     "execution_count": 13,
     "metadata": {},
     "output_type": "execute_result"
    }
   ],
   "source": [
    "data[data[\"line\"] == \"M7\"].station.unique()"
   ]
  },
  {
   "cell_type": "code",
   "execution_count": 19,
   "id": "929ce700",
   "metadata": {},
   "outputs": [
    {
     "ename": "AttributeError",
     "evalue": "'DataFrame' object has no attribute 'append'",
     "output_type": "error",
     "traceback": [
      "\u001b[1;31m---------------------------------------------------------------------------\u001b[0m",
      "\u001b[1;31mAttributeError\u001b[0m                            Traceback (most recent call last)",
      "\u001b[1;32m~\\AppData\\Local\\Temp\\ipykernel_3264\\2606173621.py\u001b[0m in \u001b[0;36m?\u001b[1;34m()\u001b[0m\n\u001b[0;32m     15\u001b[0m                 \u001b[0maverage_data\u001b[0m \u001b[1;33m=\u001b[0m \u001b[0maverage_data\u001b[0m\u001b[1;33m.\u001b[0m\u001b[0mappend\u001b[0m\u001b[1;33m(\u001b[0m\u001b[1;33m{\u001b[0m\u001b[1;34m'line'\u001b[0m\u001b[1;33m:\u001b[0m \u001b[0mline\u001b[0m\u001b[1;33m,\u001b[0m \u001b[1;34m'station'\u001b[0m\u001b[1;33m:\u001b[0m \u001b[0mstation\u001b[0m\u001b[1;33m,\u001b[0m \u001b[1;34m'average_passenger_count'\u001b[0m\u001b[1;33m:\u001b[0m \u001b[0maverage_passenger_count\u001b[0m\u001b[1;33m}\u001b[0m\u001b[1;33m,\u001b[0m \u001b[0mignore_index\u001b[0m\u001b[1;33m=\u001b[0m\u001b[1;32mTrue\u001b[0m\u001b[1;33m)\u001b[0m\u001b[1;33m\u001b[0m\u001b[1;33m\u001b[0m\u001b[0m\n\u001b[0;32m     16\u001b[0m \u001b[1;33m\u001b[0m\u001b[0m\n\u001b[0;32m     17\u001b[0m     \u001b[1;32mreturn\u001b[0m \u001b[0maverage_data\u001b[0m\u001b[1;33m\u001b[0m\u001b[1;33m\u001b[0m\u001b[0m\n\u001b[0;32m     18\u001b[0m \u001b[1;31m# Calculate the average passengers\u001b[0m\u001b[1;33m\u001b[0m\u001b[1;33m\u001b[0m\u001b[0m\n\u001b[1;32m---> 19\u001b[1;33m \u001b[0maverage_data\u001b[0m \u001b[1;33m=\u001b[0m \u001b[0mcalculate_average_passengers\u001b[0m\u001b[1;33m(\u001b[0m\u001b[0mdata\u001b[0m\u001b[1;33m)\u001b[0m\u001b[1;33m\u001b[0m\u001b[1;33m\u001b[0m\u001b[0m\n\u001b[0m\u001b[0;32m     20\u001b[0m \u001b[0maverage_data\u001b[0m\u001b[1;33m\u001b[0m\u001b[1;33m\u001b[0m\u001b[0m\n",
      "\u001b[1;32m~\\AppData\\Local\\Temp\\ipykernel_3264\\2606173621.py\u001b[0m in \u001b[0;36m?\u001b[1;34m(data)\u001b[0m\n\u001b[0;32m     11\u001b[0m \u001b[1;33m\u001b[0m\u001b[0m\n\u001b[0;32m     12\u001b[0m             \u001b[1;31m# Calculate the average passenger count\u001b[0m\u001b[1;33m\u001b[0m\u001b[1;33m\u001b[0m\u001b[0m\n\u001b[0;32m     13\u001b[0m             \u001b[1;32mif\u001b[0m \u001b[1;32mnot\u001b[0m \u001b[0mfiltered_data\u001b[0m\u001b[1;33m.\u001b[0m\u001b[0mempty\u001b[0m\u001b[1;33m:\u001b[0m\u001b[1;33m\u001b[0m\u001b[1;33m\u001b[0m\u001b[0m\n\u001b[0;32m     14\u001b[0m                 \u001b[0maverage_passenger_count\u001b[0m \u001b[1;33m=\u001b[0m \u001b[0mfiltered_data\u001b[0m\u001b[1;33m[\u001b[0m\u001b[1;34m'passenger_count'\u001b[0m\u001b[1;33m]\u001b[0m\u001b[1;33m.\u001b[0m\u001b[0mmean\u001b[0m\u001b[1;33m(\u001b[0m\u001b[1;33m)\u001b[0m\u001b[1;33m\u001b[0m\u001b[1;33m\u001b[0m\u001b[0m\n\u001b[1;32m---> 15\u001b[1;33m                 \u001b[0maverage_data\u001b[0m \u001b[1;33m=\u001b[0m \u001b[0maverage_data\u001b[0m\u001b[1;33m.\u001b[0m\u001b[0mappend\u001b[0m\u001b[1;33m(\u001b[0m\u001b[1;33m{\u001b[0m\u001b[1;34m'line'\u001b[0m\u001b[1;33m:\u001b[0m \u001b[0mline\u001b[0m\u001b[1;33m,\u001b[0m \u001b[1;34m'station'\u001b[0m\u001b[1;33m:\u001b[0m \u001b[0mstation\u001b[0m\u001b[1;33m,\u001b[0m \u001b[1;34m'average_passenger_count'\u001b[0m\u001b[1;33m:\u001b[0m \u001b[0maverage_passenger_count\u001b[0m\u001b[1;33m}\u001b[0m\u001b[1;33m,\u001b[0m \u001b[0mignore_index\u001b[0m\u001b[1;33m=\u001b[0m\u001b[1;32mTrue\u001b[0m\u001b[1;33m)\u001b[0m\u001b[1;33m\u001b[0m\u001b[1;33m\u001b[0m\u001b[0m\n\u001b[0m\u001b[0;32m     16\u001b[0m \u001b[1;33m\u001b[0m\u001b[0m\n\u001b[0;32m     17\u001b[0m     \u001b[1;32mreturn\u001b[0m \u001b[0maverage_data\u001b[0m\u001b[1;33m\u001b[0m\u001b[1;33m\u001b[0m\u001b[0m\n",
      "\u001b[1;32mc:\\Users\\Emin\\AppData\\Local\\Programs\\Python\\Python311\\Lib\\site-packages\\pandas\\core\\generic.py\u001b[0m in \u001b[0;36m?\u001b[1;34m(self, name)\u001b[0m\n\u001b[0;32m   6295\u001b[0m             \u001b[1;32mand\u001b[0m \u001b[0mname\u001b[0m \u001b[1;32mnot\u001b[0m \u001b[1;32min\u001b[0m \u001b[0mself\u001b[0m\u001b[1;33m.\u001b[0m\u001b[0m_accessors\u001b[0m\u001b[1;33m\u001b[0m\u001b[1;33m\u001b[0m\u001b[0m\n\u001b[0;32m   6296\u001b[0m             \u001b[1;32mand\u001b[0m \u001b[0mself\u001b[0m\u001b[1;33m.\u001b[0m\u001b[0m_info_axis\u001b[0m\u001b[1;33m.\u001b[0m\u001b[0m_can_hold_identifiers_and_holds_name\u001b[0m\u001b[1;33m(\u001b[0m\u001b[0mname\u001b[0m\u001b[1;33m)\u001b[0m\u001b[1;33m\u001b[0m\u001b[1;33m\u001b[0m\u001b[0m\n\u001b[0;32m   6297\u001b[0m         ):\n\u001b[0;32m   6298\u001b[0m             \u001b[1;32mreturn\u001b[0m \u001b[0mself\u001b[0m\u001b[1;33m[\u001b[0m\u001b[0mname\u001b[0m\u001b[1;33m]\u001b[0m\u001b[1;33m\u001b[0m\u001b[1;33m\u001b[0m\u001b[0m\n\u001b[1;32m-> 6299\u001b[1;33m         \u001b[1;32mreturn\u001b[0m \u001b[0mobject\u001b[0m\u001b[1;33m.\u001b[0m\u001b[0m__getattribute__\u001b[0m\u001b[1;33m(\u001b[0m\u001b[0mself\u001b[0m\u001b[1;33m,\u001b[0m \u001b[0mname\u001b[0m\u001b[1;33m)\u001b[0m\u001b[1;33m\u001b[0m\u001b[1;33m\u001b[0m\u001b[0m\n\u001b[0m",
      "\u001b[1;31mAttributeError\u001b[0m: 'DataFrame' object has no attribute 'append'"
     ]
    }
   ],
   "source": [
    "# calculate the avarage passengers  for every line and station based on differnet dates than drop dates column\n",
    "def calculate_average_passengers(data):\n",
    "    # Create a new DataFrame to store the average passengers\n",
    "    average_data = pd.DataFrame(columns=['line', 'station', 'average_passenger_count'])\n",
    "\n",
    "    # Iterate through each line and station\n",
    "    for line in data['line'].unique():\n",
    "        for station in data['station'].unique():\n",
    "            # Filter the data for the current line and station\n",
    "            filtered_data = data[(data['line'] == line) & (data['station'] == station)]\n",
    "            \n",
    "            # Calculate the average passenger count\n",
    "            if not filtered_data.empty:\n",
    "                average_passenger_count = filtered_data['passenger_count'].mean()\n",
    "                average_data = average_data.append({'line': line, 'station': station, 'average_passenger_count': average_passenger_count}, ignore_index=True)\n",
    "\n",
    "    return average_data\n",
    "# Calculate the average passengers\n",
    "average_data = calculate_average_passengers(data)\n",
    "average_data"
   ]
  },
  {
   "cell_type": "code",
   "execution_count": 18,
   "id": "c3d45013",
   "metadata": {},
   "outputs": [
    {
     "data": {
      "text/plain": [
       "array(['ATATURK OTO SANAYI', 'DARUSSAFAKA', 'GAYRETTEPE', 'HACIOSMAN',\n",
       "       'HALIC', 'ITU', 'LEVENT', 'OSMANBEY', 'SANAYI MAH.', 'SEYRANTEPE',\n",
       "       'SEYRANTEPE  STAD GIRISI', 'SISHANE', 'SISLI', 'TAKSIM',\n",
       "       'VEZNECILER', 'YENIKAPI'], dtype=object)"
      ]
     },
     "execution_count": 18,
     "metadata": {},
     "output_type": "execute_result"
    }
   ],
   "source": [
    "data[data[\"line\"] == \"M2\"].station.unique()"
   ]
  },
  {
   "cell_type": "code",
   "execution_count": null,
   "id": "7c11507a",
   "metadata": {},
   "outputs": [],
   "source": [
    "dict = {}\n",
    "for i in range(len(data)):\n",
    "    if data[\"line\"][i] not in dict:\n",
    "        dict[data[\"line\"][i]] = {}\n",
    "    if data[\"date\"][i] not in dict[data[\"line\"][i]]:\n",
    "        dict[data[\"line\"][i]][data[\"date\"][i]] = {}\n",
    "    if data[\"hour\"][i] not in dict[data[\"line\"][i]][data[\"date\"][i]]:\n",
    "        dict[data[\"line\"][i]][data[\"date\"][i]][data[\"hour\"][i]] = {}\n",
    "    if data[\"station\"][i] not in dict[data[\"line\"][i]][data[\"date\"][i]][data[\"hour\"][i]]:\n",
    "        dict[data[\"line\"][i]][data[\"date\"][i]][data[\"hour\"][i]][data[\"station\"][i]] = {}\n",
    "    dict[data[\"line\"][i]][data[\"date\"][i]][data[\"hour\"][i]][data[\"station\"][i]] = data[\"passenger_count\"][i]"
   ]
  },
  {
   "cell_type": "code",
   "execution_count": null,
   "id": "fe793835",
   "metadata": {},
   "outputs": [],
   "source": [
    "NUM_LINES = 5  # example number of metro lines\n",
    "POPULATION_SIZE = 50\n",
    "OPERATIONAL_COST = 1000\n",
    "GENERATIONS = 100\n",
    "FREQ_BOUNDS = (2, 10) \n",
    "STOP_TIME_BOUNDS = (20, 90)  # Seconds\n",
    "\n",
    "w1, w2, w3, w4 = 1.0, 3.0, 1.5, 1.2"
   ]
  },
  {
   "cell_type": "code",
   "execution_count": null,
   "id": "a641c629",
   "metadata": {},
   "outputs": [],
   "source": []
  },
  {
   "cell_type": "code",
   "execution_count": null,
   "id": "c3c024ed",
   "metadata": {},
   "outputs": [],
   "source": [
    "def cost_function(frequency, stop_time, line_data):\n",
    "    op_cost = 0\n",
    "\n",
    "    for date in line_data:\n",
    "        for hour in line_data[date]:\n",
    "            op_cost += frequency * OPERATIONAL_COST\n",
    "            for station in line_data[date][hour]:\n",
    "                station_passenger = line_data[date][hour][station][direction_1]\n",
    "                metro_passenger = line_data[date][hour][station][cum_direction_1]\n",
    "\n",
    "                wait_cost = station_passenger * frequency/2 + stop_time + metro_passenger * stop_time\n",
    "                unserved_cost = (station_passenger - (max_capacity - cum_direction_1)) * unserved_cost \n",
    "                # cum_direction_1 is number of passengers when train reaches the station number of available places for ht new passengers is calculated as\n",
    "                # max_capacity - cum_direction_1 and the remaining passengers are unserved\n",
    "                density_cost = cum_direction_1 * density_cost \n",
    "                # because the cum_direction_1 is the number of passengers in the train harm of the density affects until the next station\n",
    "                standing_cost = (cum_direction_1 - max__seat_capacity) * standing_cost\n",
    "\n",
    "    return op_cost + wait_cost + unserved_cost + density_cost + standing_cost\n"
   ]
  },
  {
   "cell_type": "code",
   "execution_count": 98,
   "id": "6490c607",
   "metadata": {},
   "outputs": [],
   "source": [
    "def initialize_population():\n",
    "    population = []\n",
    "    for _ in range(POPULATION_SIZE):\n",
    "        frequencies = [random.randint(*FREQ_BOUNDS) for _ in range(NUM_LINES)]\n",
    "        stop_times = [random.randint(*STOP_TIME_BOUNDS) for _ in range(NUM_LINES)]\n",
    "        population.append((frequencies, stop_times))\n",
    "    return population\n"
   ]
  },
  {
   "cell_type": "code",
   "execution_count": 99,
   "id": "3e99ba08",
   "metadata": {},
   "outputs": [],
   "source": [
    "def select_population(population, fitnesses):\n",
    "    sorted_pop = [x for _, x in sorted(zip(fitnesses, population))]\n",
    "    return sorted_pop[:POPULATION_SIZE // 2]\n"
   ]
  },
  {
   "cell_type": "code",
   "execution_count": 100,
   "id": "5226a476",
   "metadata": {},
   "outputs": [],
   "source": [
    "def crossover(parents):\n",
    "    offspring = []\n",
    "    while len(offspring) < POPULATION_SIZE:\n",
    "        p1, p2 = random.sample(parents, 2)\n",
    "        point = random.randint(1, NUM_LINES - 1)\n",
    "        new_freq = p1[0][:point] + p2[0][point:]\n",
    "        new_stop = p1[1][:point] + p2[1][point:]\n",
    "        offspring.append((new_freq, new_stop))\n",
    "    return offspring"
   ]
  },
  {
   "cell_type": "code",
   "execution_count": 101,
   "id": "873f66e7",
   "metadata": {},
   "outputs": [],
   "source": [
    "def mutate(individual, mutation_rate=0.1):\n",
    "    for i in range(NUM_LINES):\n",
    "        if random.random() < mutation_rate:\n",
    "            individual[0][i] = random.randint(*FREQ_BOUNDS)\n",
    "        if random.random() < mutation_rate:\n",
    "            individual[1][i] = random.randint(*STOP_TIME_BOUNDS)\n",
    "    return individual"
   ]
  },
  {
   "cell_type": "code",
   "execution_count": 103,
   "id": "7a0a1713",
   "metadata": {},
   "outputs": [],
   "source": [
    "def run_genetic_algorithm(passenger_data):\n",
    "    population = initialize_population()\n",
    "    for generation in range(GENERATIONS):\n",
    "        fitnesses = [cost_function(freqs, stops, passenger_data) for freqs, stops in population]\n",
    "        best = min(fitnesses)\n",
    "        print(f\"Generation {generation} - Best Cost: {best}\")\n",
    "        selected = select_population(population, fitnesses)\n",
    "        offspring = crossover(selected)\n",
    "        population = [mutate(ind) for ind in offspring]\n",
    "    return population[np.argmin(fitnesses)]\n"
   ]
  },
  {
   "cell_type": "code",
   "execution_count": null,
   "id": "3c827dc1",
   "metadata": {},
   "outputs": [],
   "source": [
    "mock_passenger_data = None  # Replace with real preprocessed data"
   ]
  },
  {
   "cell_type": "code",
   "execution_count": 106,
   "id": "49f66b4f",
   "metadata": {},
   "outputs": [
    {
     "name": "stdout",
     "output_type": "stream",
     "text": [
      "Generation 0 - Best Cost: 0\n",
      "Generation 1 - Best Cost: 0\n",
      "Generation 2 - Best Cost: 0\n",
      "Generation 3 - Best Cost: 0\n",
      "Generation 4 - Best Cost: 0\n",
      "Generation 5 - Best Cost: 0\n",
      "Generation 6 - Best Cost: 0\n",
      "Generation 7 - Best Cost: 0\n",
      "Generation 8 - Best Cost: 0\n",
      "Generation 9 - Best Cost: 0\n",
      "Generation 10 - Best Cost: 0\n",
      "Generation 11 - Best Cost: 0\n",
      "Generation 12 - Best Cost: 0\n",
      "Generation 13 - Best Cost: 0\n",
      "Generation 14 - Best Cost: 0\n",
      "Generation 15 - Best Cost: 0\n",
      "Generation 16 - Best Cost: 0\n",
      "Generation 17 - Best Cost: 0\n",
      "Generation 18 - Best Cost: 0\n",
      "Generation 19 - Best Cost: 0\n",
      "Generation 20 - Best Cost: 0\n",
      "Generation 21 - Best Cost: 0\n",
      "Generation 22 - Best Cost: 0\n",
      "Generation 23 - Best Cost: 0\n",
      "Generation 24 - Best Cost: 0\n",
      "Generation 25 - Best Cost: 0\n",
      "Generation 26 - Best Cost: 0\n",
      "Generation 27 - Best Cost: 0\n",
      "Generation 28 - Best Cost: 0\n",
      "Generation 29 - Best Cost: 0\n",
      "Generation 30 - Best Cost: 0\n",
      "Generation 31 - Best Cost: 0\n",
      "Generation 32 - Best Cost: 0\n",
      "Generation 33 - Best Cost: 0\n",
      "Generation 34 - Best Cost: 0\n",
      "Generation 35 - Best Cost: 0\n",
      "Generation 36 - Best Cost: 0\n",
      "Generation 37 - Best Cost: 0\n",
      "Generation 38 - Best Cost: 0\n",
      "Generation 39 - Best Cost: 0\n",
      "Generation 40 - Best Cost: 0\n",
      "Generation 41 - Best Cost: 0\n",
      "Generation 42 - Best Cost: 0\n",
      "Generation 43 - Best Cost: 0\n",
      "Generation 44 - Best Cost: 0\n",
      "Generation 45 - Best Cost: 0\n",
      "Generation 46 - Best Cost: 0\n",
      "Generation 47 - Best Cost: 0\n",
      "Generation 48 - Best Cost: 0\n",
      "Generation 49 - Best Cost: 0\n",
      "Generation 50 - Best Cost: 0\n",
      "Generation 51 - Best Cost: 0\n",
      "Generation 52 - Best Cost: 0\n",
      "Generation 53 - Best Cost: 0\n",
      "Generation 54 - Best Cost: 0\n",
      "Generation 55 - Best Cost: 0\n",
      "Generation 56 - Best Cost: 0\n",
      "Generation 57 - Best Cost: 0\n",
      "Generation 58 - Best Cost: 0\n",
      "Generation 59 - Best Cost: 0\n",
      "Generation 60 - Best Cost: 0\n",
      "Generation 61 - Best Cost: 0\n",
      "Generation 62 - Best Cost: 0\n",
      "Generation 63 - Best Cost: 0\n",
      "Generation 64 - Best Cost: 0\n",
      "Generation 65 - Best Cost: 0\n",
      "Generation 66 - Best Cost: 0\n",
      "Generation 67 - Best Cost: 0\n",
      "Generation 68 - Best Cost: 0\n",
      "Generation 69 - Best Cost: 0\n",
      "Generation 70 - Best Cost: 0\n",
      "Generation 71 - Best Cost: 0\n",
      "Generation 72 - Best Cost: 0\n",
      "Generation 73 - Best Cost: 0\n",
      "Generation 74 - Best Cost: 0\n",
      "Generation 75 - Best Cost: 0\n",
      "Generation 76 - Best Cost: 0\n",
      "Generation 77 - Best Cost: 0\n",
      "Generation 78 - Best Cost: 0\n",
      "Generation 79 - Best Cost: 0\n",
      "Generation 80 - Best Cost: 0\n",
      "Generation 81 - Best Cost: 0\n",
      "Generation 82 - Best Cost: 0\n",
      "Generation 83 - Best Cost: 0\n",
      "Generation 84 - Best Cost: 0\n",
      "Generation 85 - Best Cost: 0\n",
      "Generation 86 - Best Cost: 0\n",
      "Generation 87 - Best Cost: 0\n",
      "Generation 88 - Best Cost: 0\n",
      "Generation 89 - Best Cost: 0\n",
      "Generation 90 - Best Cost: 0\n",
      "Generation 91 - Best Cost: 0\n",
      "Generation 92 - Best Cost: 0\n",
      "Generation 93 - Best Cost: 0\n",
      "Generation 94 - Best Cost: 0\n",
      "Generation 95 - Best Cost: 0\n",
      "Generation 96 - Best Cost: 0\n",
      "Generation 97 - Best Cost: 0\n",
      "Generation 98 - Best Cost: 0\n",
      "Generation 99 - Best Cost: 0\n",
      "Best Solution: ([2, 2, 10, 2, 2], [21, 21, 46, 49, 51])\n"
     ]
    }
   ],
   "source": [
    "best_solution = run_genetic_algorithm(mock_passenger_data)\n",
    "print(\"Best Solution:\", best_solution)"
   ]
  }
 ],
 "metadata": {
  "kernelspec": {
   "display_name": "Python 3",
   "language": "python",
   "name": "python3"
  },
  "language_info": {
   "codemirror_mode": {
    "name": "ipython",
    "version": 3
   },
   "file_extension": ".py",
   "mimetype": "text/x-python",
   "name": "python",
   "nbconvert_exporter": "python",
   "pygments_lexer": "ipython3",
   "version": "3.11.4"
  }
 },
 "nbformat": 4,
 "nbformat_minor": 5
}
